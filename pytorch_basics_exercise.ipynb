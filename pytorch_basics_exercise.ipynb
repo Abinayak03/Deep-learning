{
  "nbformat": 4,
  "nbformat_minor": 0,
  "metadata": {
    "colab": {
      "provenance": [],
      "gpuType": "T4",
      "include_colab_link": true
    },
    "kernelspec": {
      "name": "python3",
      "display_name": "Python 3"
    },
    "language_info": {
      "name": "python"
    },
    "accelerator": "GPU"
  },
  "cells": [
    {
      "cell_type": "markdown",
      "metadata": {
        "id": "view-in-github",
        "colab_type": "text"
      },
      "source": [
        "<a href=\"https://colab.research.google.com/github/Abinayak03/Deep-learning/blob/main/pytorch_basics_exercise.ipynb\" target=\"_parent\"><img src=\"https://colab.research.google.com/assets/colab-badge.svg\" alt=\"Open In Colab\"/></a>"
      ]
    },
    {
      "cell_type": "markdown",
      "source": [
        "# Problem Statement: **Welcome to AI Town!**\n",
        "\n",
        "### You’ve been hired as an AI engineer in **AI Town**, a futuristic city powered by artificial intelligence. Your job is to use PyTorch to solve foundational challenges that AI Town faces. Each task requires you to demonstrate your expertise with PyTorch basics."
      ],
      "metadata": {
        "id": "q7UkbxIuOsEb"
      }
    },
    {
      "cell_type": "markdown",
      "source": [
        "\n",
        "\n",
        "---\n",
        "\n"
      ],
      "metadata": {
        "id": "gwD-rhXXnhIz"
      }
    },
    {
      "cell_type": "markdown",
      "source": [
        "Imports and CUDA"
      ],
      "metadata": {
        "id": "6JwL8-81yLWK"
      }
    },
    {
      "cell_type": "code",
      "source": [
        "import torch\n",
        "\n",
        "# Check if CUDA (GPU) is available\n",
        "device = torch.device('cuda' if torch.cuda.is_available() else 'cpu')\n",
        "print(f\"Using device: {device}\")\n"
      ],
      "metadata": {
        "id": "yR0_z_79yKEK",
        "colab": {
          "base_uri": "https://localhost:8080/"
        },
        "outputId": "e13b101f-f51f-4713-8971-bfd6659735ac"
      },
      "execution_count": 7,
      "outputs": [
        {
          "output_type": "stream",
          "name": "stdout",
          "text": [
            "Using device: cuda\n"
          ]
        }
      ]
    },
    {
      "cell_type": "markdown",
      "source": [
        "\n",
        "\n",
        "---\n",
        "\n"
      ],
      "metadata": {
        "id": "6iiOkre3ye0n"
      }
    },
    {
      "cell_type": "markdown",
      "source": [
        "**Task1: Inventory Management**\n",
        "\n",
        "AI Town’s warehouse uses sensors to record the inventory of 5 items every day. Each day’s data is represented as a list of integers (number of units)."
      ],
      "metadata": {
        "id": "iGT8uIK2nzxa"
      }
    },
    {
      "cell_type": "code",
      "source": [
        "#1 Create a PyTorch Tensor from the following inventory data\n",
        "inventory = [[12, 15, 10, 0, 5],\n",
        "             [10, 8, 7, 5, 4],\n",
        "             [20, 10, 15, 5, 2]]\n",
        "inventory=torch.tensor(inventory,dtype=torch.float32)"
      ],
      "metadata": {
        "id": "yQj9yyF-pADV"
      },
      "execution_count": 12,
      "outputs": []
    },
    {
      "cell_type": "code",
      "source": [
        "torch.is_tensor(inventory)"
      ],
      "metadata": {
        "colab": {
          "base_uri": "https://localhost:8080/"
        },
        "id": "RHSiFT8iY8F6",
        "outputId": "22cd649a-7cf2-4780-9b34-e01b6f65b248"
      },
      "execution_count": 13,
      "outputs": [
        {
          "output_type": "execute_result",
          "data": {
            "text/plain": [
              "True"
            ]
          },
          "metadata": {},
          "execution_count": 13
        }
      ]
    },
    {
      "cell_type": "code",
      "source": [
        "#2 Find the total inventory for each item across all days\n",
        "inventory.sum(dim=0)"
      ],
      "metadata": {
        "id": "piee_hPCo-VW",
        "colab": {
          "base_uri": "https://localhost:8080/"
        },
        "outputId": "38339f25-997f-4899-fc45-b0216d8177e3"
      },
      "execution_count": 15,
      "outputs": [
        {
          "output_type": "execute_result",
          "data": {
            "text/plain": [
              "tensor([42., 33., 32., 10., 11.])"
            ]
          },
          "metadata": {},
          "execution_count": 15
        }
      ]
    },
    {
      "cell_type": "code",
      "execution_count": 16,
      "metadata": {
        "id": "O-0F3R8uObWT",
        "colab": {
          "base_uri": "https://localhost:8080/"
        },
        "outputId": "2fb8eddc-ab81-445a-a244-a7b7a7bd7d5c"
      },
      "outputs": [
        {
          "output_type": "execute_result",
          "data": {
            "text/plain": [
              "tensor([ 8.4000,  6.8000, 10.4000])"
            ]
          },
          "metadata": {},
          "execution_count": 16
        }
      ],
      "source": [
        "#3 Find the average inventory per day\n",
        "inventory.mean(dim=1)"
      ]
    },
    {
      "cell_type": "markdown",
      "source": [
        "\n",
        "\n",
        "---\n",
        "\n"
      ],
      "metadata": {
        "id": "4eWH3-JBycim"
      }
    },
    {
      "cell_type": "markdown",
      "source": [
        "**Task2: Monitoring Vehicle Flow**\n",
        "\n",
        "AI Town uses a sensor to monitor the number of vehicles passing through two main roads every hour. The data for one day (24 hours) is represented as two\n",
        "1×24 tensors."
      ],
      "metadata": {
        "id": "jqsNZz1VpDTB"
      }
    },
    {
      "cell_type": "code",
      "source": [
        "#1 Simulate this data using PyTorch's Random Functions\n",
        "road1=torch.randint(50,200,(1,24))\n",
        "road2=torch.randint(50,200,(1,24))\n",
        "road1,road2"
      ],
      "metadata": {
        "id": "v0N1_20upZV0",
        "colab": {
          "base_uri": "https://localhost:8080/"
        },
        "outputId": "056e1db7-6752-4dcb-c4b0-eaa25cb8048a"
      },
      "execution_count": 19,
      "outputs": [
        {
          "output_type": "execute_result",
          "data": {
            "text/plain": [
              "(tensor([[184,  93,  85, 155, 163, 116,  91, 167, 128,  95,  84,  90,  67,  65,\n",
              "          136, 134, 144, 143, 198,  65, 179, 143, 115, 160]]),\n",
              " tensor([[199, 101, 138,  64, 124,  78, 170, 164, 104,  64, 180, 159, 115, 101,\n",
              "          126, 107, 104, 159, 186,  78,  54, 116,  63, 180]]))"
            ]
          },
          "metadata": {},
          "execution_count": 19
        }
      ]
    },
    {
      "cell_type": "code",
      "source": [
        "#2 Write the function to calculate the total vehicle flow for each road across the entire day\n",
        "def total_vehicle_flow():\n",
        "  return road1.sum(),road2.sum()\n",
        "total_vehicle_flow()"
      ],
      "metadata": {
        "id": "o2ldiyONpkp_",
        "colab": {
          "base_uri": "https://localhost:8080/"
        },
        "outputId": "708ce197-1cbd-4642-c5ee-475c544c72f4"
      },
      "execution_count": 20,
      "outputs": [
        {
          "output_type": "execute_result",
          "data": {
            "text/plain": [
              "(tensor(3000), tensor(2934))"
            ]
          },
          "metadata": {},
          "execution_count": 20
        }
      ]
    },
    {
      "cell_type": "code",
      "source": [
        "#3 Write the function to calculate the total vehicle flow for each hour across both roads\n",
        "def total_vehicle_flow_per_hour():\n",
        "  return road1+road2\n",
        "total_vehicle_flow_per_hour()"
      ],
      "metadata": {
        "id": "PP1ukEgXpvl_",
        "colab": {
          "base_uri": "https://localhost:8080/"
        },
        "outputId": "4bc17acd-752d-470d-d2dd-797163b54429"
      },
      "execution_count": 22,
      "outputs": [
        {
          "output_type": "execute_result",
          "data": {
            "text/plain": [
              "tensor([[383, 194, 223, 219, 287, 194, 261, 331, 232, 159, 264, 249, 182, 166,\n",
              "         262, 241, 248, 302, 384, 143, 233, 259, 178, 340]])"
            ]
          },
          "metadata": {},
          "execution_count": 22
        }
      ]
    },
    {
      "cell_type": "markdown",
      "source": [
        "\n",
        "\n",
        "---\n",
        "\n"
      ],
      "metadata": {
        "id": "wkp5wRVHygcH"
      }
    },
    {
      "cell_type": "markdown",
      "source": [
        "**Task3: Fitness Matrix**\n",
        "\n",
        "The AI Gym tracks members’ fitness scores using a 3×3 matrix for *strength*, *stamina*, and f*lexibility*. Each row represents a different member, and each column represents a specific metric."
      ],
      "metadata": {
        "id": "9_03v1baqBBB"
      }
    },
    {
      "cell_type": "code",
      "source": [
        "#1 Create a 3*3 tensor matrix and multiply the scores of each member by a weight factor: [0.8, 1.2, 1.5]\n",
        "gym=torch.randint(50,100,(3,3))\n",
        "print(gym)\n",
        "weight_factor=torch.tensor([0.8,1.2,1.5])\n",
        "scores_f=gym*weight_factor\n",
        "scores_f"
      ],
      "metadata": {
        "id": "GlQTZKI6rZ5X",
        "colab": {
          "base_uri": "https://localhost:8080/"
        },
        "outputId": "fc39040e-c7fa-4753-922c-23b72d0bdf16"
      },
      "execution_count": 27,
      "outputs": [
        {
          "output_type": "stream",
          "name": "stdout",
          "text": [
            "tensor([[91, 89, 97],\n",
            "        [72, 88, 84],\n",
            "        [82, 50, 74]])\n"
          ]
        },
        {
          "output_type": "execute_result",
          "data": {
            "text/plain": [
              "tensor([[ 72.8000, 106.8000, 145.5000],\n",
              "        [ 57.6000, 105.6000, 126.0000],\n",
              "        [ 65.6000,  60.0000, 111.0000]])"
            ]
          },
          "metadata": {},
          "execution_count": 27
        }
      ]
    },
    {
      "cell_type": "code",
      "source": [
        "#2 Find the row-wise and column-wise maximum scores\n",
        "print(scores_f.max(dim=0))\n",
        "print(scores_f.max(dim=1))"
      ],
      "metadata": {
        "id": "_uce_-rXr1un",
        "colab": {
          "base_uri": "https://localhost:8080/"
        },
        "outputId": "e10b7710-502e-41ae-d4dd-97b1787dd337"
      },
      "execution_count": 28,
      "outputs": [
        {
          "output_type": "stream",
          "name": "stdout",
          "text": [
            "torch.return_types.max(\n",
            "values=tensor([ 72.8000, 106.8000, 145.5000]),\n",
            "indices=tensor([0, 0, 0]))\n",
            "torch.return_types.max(\n",
            "values=tensor([145.5000, 126.0000, 111.0000]),\n",
            "indices=tensor([2, 2, 2]))\n"
          ]
        }
      ]
    },
    {
      "cell_type": "code",
      "source": [
        "#3 Transpose the fitness matrix and interpret it's new structure (shape)\n",
        "transpose_scores_f=scores_f.T\n",
        "transpose_scores_f"
      ],
      "metadata": {
        "id": "WIapNxZ6r4Dn",
        "colab": {
          "base_uri": "https://localhost:8080/"
        },
        "outputId": "33a74e83-07e9-4917-e574-0d925fe99fd0"
      },
      "execution_count": 30,
      "outputs": [
        {
          "output_type": "execute_result",
          "data": {
            "text/plain": [
              "tensor([[ 72.8000,  57.6000,  65.6000],\n",
              "        [106.8000, 105.6000,  60.0000],\n",
              "        [145.5000, 126.0000, 111.0000]])"
            ]
          },
          "metadata": {},
          "execution_count": 30
        }
      ]
    },
    {
      "cell_type": "markdown",
      "source": [
        "\n",
        "\n",
        "---\n",
        "\n"
      ],
      "metadata": {
        "id": "LlDlQS0Vyh8W"
      }
    },
    {
      "cell_type": "markdown",
      "source": [
        "**Task4: Chain Rule in Action**\n",
        "\n",
        "AI Lab is running experiments to understand the effect of temperature (\n",
        "x) on a chemical reaction rate (y). The relationship is given as:\n",
        "$y = 2x^3 + 5x^2 - 3x + 7$\n",
        "\n"
      ],
      "metadata": {
        "id": "03ROjCDosA1-"
      }
    },
    {
      "cell_type": "code",
      "source": [
        "#1 Use PyTorch to compute 'y' for x = 4\n",
        "# let's define x first\n",
        "x = torch.tensor(4.0, requires_grad=True , dtype=torch.float32)\n",
        "\n",
        "# now define y\n",
        "y = 2*x**3 + 5*x**2 - 3*x + 7\n",
        "\n",
        "print(y)\n"
      ],
      "metadata": {
        "id": "3A33YR0QvHjn",
        "colab": {
          "base_uri": "https://localhost:8080/"
        },
        "outputId": "c090caa5-1fba-47eb-dd2c-f9fecdc0dd14"
      },
      "execution_count": 38,
      "outputs": [
        {
          "output_type": "stream",
          "name": "stdout",
          "text": [
            "tensor(203., grad_fn=<AddBackward0>)\n"
          ]
        }
      ]
    },
    {
      "cell_type": "code",
      "source": [
        "#2 Calculate dy/dx(gradient) using PyTorch's autograd\n",
        "y.backward()\n",
        "gradient=x.grad\n",
        "print(gradient)"
      ],
      "metadata": {
        "id": "-9I7GHC2vyi2",
        "colab": {
          "base_uri": "https://localhost:8080/"
        },
        "outputId": "149d6c79-e189-419a-d06a-dc7298642379"
      },
      "execution_count": 39,
      "outputs": [
        {
          "output_type": "stream",
          "name": "stdout",
          "text": [
            "tensor(133.)\n"
          ]
        }
      ]
    },
    {
      "cell_type": "markdown",
      "source": [
        "\n",
        "\n",
        "---\n",
        "\n"
      ],
      "metadata": {
        "id": "cWs5gdmiylYe"
      }
    },
    {
      "cell_type": "markdown",
      "source": [
        "**Task5: Camera Calibration**\n",
        "\n",
        "AI Town’s surveillance cameras need to align their focus. You are given the following matrices for two cameras’ focus adjustments:"
      ],
      "metadata": {
        "id": "12iKFr_NwC7d"
      }
    },
    {
      "cell_type": "code",
      "source": [
        "\n",
        "camera1 = torch.tensor([[1, 2], [3, 4]])\n",
        "camera2 = torch.tensor([[5, 6], [7, 8]])\n"
      ],
      "metadata": {
        "id": "3syFy2GlwLRZ"
      },
      "execution_count": 40,
      "outputs": []
    },
    {
      "cell_type": "code",
      "source": [
        "#1 Perform an element-wise multiplication of matrices ( Hadamard Product)\n",
        "\n",
        "camera1*camera2"
      ],
      "metadata": {
        "id": "xJH8T-85wO_B",
        "colab": {
          "base_uri": "https://localhost:8080/"
        },
        "outputId": "3d9f553f-77b4-4009-efa7-421e108113c6"
      },
      "execution_count": 41,
      "outputs": [
        {
          "output_type": "execute_result",
          "data": {
            "text/plain": [
              "tensor([[ 5, 12],\n",
              "        [21, 32]])"
            ]
          },
          "metadata": {},
          "execution_count": 41
        }
      ]
    },
    {
      "cell_type": "code",
      "source": [
        "#2 Compute Dot Product of the two matrices\n",
        "torch.matmul(camera1,camera2)"
      ],
      "metadata": {
        "id": "yL5otP3FwZY8",
        "colab": {
          "base_uri": "https://localhost:8080/"
        },
        "outputId": "d516034e-b938-4e0b-9122-0c9a68a7c469"
      },
      "execution_count": 42,
      "outputs": [
        {
          "output_type": "execute_result",
          "data": {
            "text/plain": [
              "tensor([[19, 22],\n",
              "        [43, 50]])"
            ]
          },
          "metadata": {},
          "execution_count": 42
        }
      ]
    },
    {
      "cell_type": "code",
      "source": [
        "#3 Compute the Determinant of each matrix\n",
        "torch.det(camera1.float()),torch.det(camera2.float())"
      ],
      "metadata": {
        "id": "97dWTkQzxBaH",
        "colab": {
          "base_uri": "https://localhost:8080/"
        },
        "outputId": "f504c5d7-2011-4d8b-bd64-af7495322d6e"
      },
      "execution_count": 45,
      "outputs": [
        {
          "output_type": "execute_result",
          "data": {
            "text/plain": [
              "(tensor(-2.), tensor(-2.0000))"
            ]
          },
          "metadata": {},
          "execution_count": 45
        }
      ]
    },
    {
      "cell_type": "markdown",
      "source": [
        "\n",
        "\n",
        "---\n",
        "\n"
      ],
      "metadata": {
        "id": "dtQXmntaym2T"
      }
    },
    {
      "cell_type": "markdown",
      "source": [
        "**Task6: Neural Network Foundations**\n",
        "\n",
        "Our AI University uses simplified single neuron model (perceptron):\n",
        "$$y = wx + b$$"
      ],
      "metadata": {
        "id": "tA6tObX4xFLE"
      }
    },
    {
      "cell_type": "code",
      "source": [
        "#1 Create tensors for w  = 2, b = 1, x = [1, 2, 3, 4]\n",
        "w=torch.tensor(2.0)\n",
        "b=torch.tensor(1.0)\n",
        "x=torch.tensor([1,2,3,4])"
      ],
      "metadata": {
        "id": "CAynFZXZxf53"
      },
      "execution_count": 46,
      "outputs": []
    },
    {
      "cell_type": "code",
      "source": [
        "#2 Compute tensors for y\n",
        "y=w*x+b\n",
        "y"
      ],
      "metadata": {
        "id": "sAtHYFNDxqy-",
        "colab": {
          "base_uri": "https://localhost:8080/"
        },
        "outputId": "1f975fc5-89ee-49fc-a1ab-e1be4abd1a28"
      },
      "execution_count": 48,
      "outputs": [
        {
          "output_type": "execute_result",
          "data": {
            "text/plain": [
              "tensor([3., 5., 7., 9.])"
            ]
          },
          "metadata": {},
          "execution_count": 48
        }
      ]
    },
    {
      "cell_type": "markdown",
      "source": [
        "\n",
        "\n",
        "---\n",
        "\n"
      ],
      "metadata": {
        "id": "3PLDt7oKyoI6"
      }
    }
  ]
}