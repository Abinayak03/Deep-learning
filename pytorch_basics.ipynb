{
  "nbformat": 4,
  "nbformat_minor": 0,
  "metadata": {
    "colab": {
      "provenance": [],
      "gpuType": "T4",
      "authorship_tag": "ABX9TyOalwGV9S52SJGQ3G4DHNPd",
      "include_colab_link": true
    },
    "kernelspec": {
      "name": "python3",
      "display_name": "Python 3"
    },
    "language_info": {
      "name": "python"
    },
    "accelerator": "GPU"
  },
  "cells": [
    {
      "cell_type": "markdown",
      "metadata": {
        "id": "view-in-github",
        "colab_type": "text"
      },
      "source": [
        "<a href=\"https://colab.research.google.com/github/Abinayak03/Deep-learning/blob/main/pytorch_basics.ipynb\" target=\"_parent\"><img src=\"https://colab.research.google.com/assets/colab-badge.svg\" alt=\"Open In Colab\"/></a>"
      ]
    },
    {
      "cell_type": "code",
      "execution_count": 1,
      "metadata": {
        "colab": {
          "base_uri": "https://localhost:8080/"
        },
        "id": "M4UU-vfGti6h",
        "outputId": "59345454-6d67-49d8-fc41-cdfe84fa23f3"
      },
      "outputs": [
        {
          "output_type": "stream",
          "name": "stdout",
          "text": [
            "2.6.0+cu124\n"
          ]
        }
      ],
      "source": [
        "import torch\n",
        "print(torch.__version__)"
      ]
    },
    {
      "cell_type": "code",
      "source": [
        "print(torch.cuda.is_available())"
      ],
      "metadata": {
        "colab": {
          "base_uri": "https://localhost:8080/"
        },
        "id": "bn_6f972tubF",
        "outputId": "271f565e-2256-4591-a9e4-f66e8eb474f6"
      },
      "execution_count": 2,
      "outputs": [
        {
          "output_type": "stream",
          "name": "stdout",
          "text": [
            "True\n"
          ]
        }
      ]
    },
    {
      "cell_type": "code",
      "source": [
        "device = torch.device(\"cuda\" if torch.cuda.is_available() else \"cpu\")\n",
        "print(f\"Using device: {device}\")\n"
      ],
      "metadata": {
        "colab": {
          "base_uri": "https://localhost:8080/"
        },
        "id": "TI_-iSMivQw-",
        "outputId": "968c1636-4e28-4725-8376-633d914846fe"
      },
      "execution_count": 3,
      "outputs": [
        {
          "output_type": "stream",
          "name": "stdout",
          "text": [
            "Using device: cuda\n"
          ]
        }
      ]
    },
    {
      "cell_type": "code",
      "source": [
        "revenue=torch.tensor([100,120,300,33,334])"
      ],
      "metadata": {
        "id": "rVhEg3am7x3J"
      },
      "execution_count": 4,
      "outputs": []
    },
    {
      "cell_type": "code",
      "source": [
        "revenue[:3]"
      ],
      "metadata": {
        "colab": {
          "base_uri": "https://localhost:8080/"
        },
        "id": "X1ACqTFk7_G6",
        "outputId": "d4e873e1-bd88-4791-dcc6-7da38667c926"
      },
      "execution_count": 5,
      "outputs": [
        {
          "output_type": "execute_result",
          "data": {
            "text/plain": [
              "tensor([100, 120, 300])"
            ]
          },
          "metadata": {},
          "execution_count": 5
        }
      ]
    },
    {
      "cell_type": "code",
      "source": [
        "q1=torch.tensor([\n",
        "    [200,220,250],\n",
        "    [150,180,210],\n",
        "    [300,330,360]\n",
        "])\n",
        "q2=torch.tensor([\n",
        "    [209,231,259],\n",
        "    [155,192,222],\n",
        "    [310,340,375]\n",
        "])"
      ],
      "metadata": {
        "id": "p5JibQjS8Eeo"
      },
      "execution_count": 6,
      "outputs": []
    },
    {
      "cell_type": "code",
      "source": [
        "q1+q2"
      ],
      "metadata": {
        "colab": {
          "base_uri": "https://localhost:8080/"
        },
        "id": "v6UfRsncQSGm",
        "outputId": "2113e07e-fbfc-426b-d50b-925bef1aa91b"
      },
      "execution_count": 7,
      "outputs": [
        {
          "output_type": "execute_result",
          "data": {
            "text/plain": [
              "tensor([[409, 451, 509],\n",
              "        [305, 372, 432],\n",
              "        [610, 670, 735]])"
            ]
          },
          "metadata": {},
          "execution_count": 7
        }
      ]
    },
    {
      "cell_type": "code",
      "source": [
        "0.1*q1"
      ],
      "metadata": {
        "colab": {
          "base_uri": "https://localhost:8080/"
        },
        "id": "_iHZSdMjQVA-",
        "outputId": "547b70f0-2d56-42af-f622-6e735fffe32f"
      },
      "execution_count": 8,
      "outputs": [
        {
          "output_type": "execute_result",
          "data": {
            "text/plain": [
              "tensor([[20., 22., 25.],\n",
              "        [15., 18., 21.],\n",
              "        [30., 33., 36.]])"
            ]
          },
          "metadata": {},
          "execution_count": 8
        }
      ]
    },
    {
      "cell_type": "code",
      "source": [
        "#elementwise multiplication\n",
        "q1*q2"
      ],
      "metadata": {
        "colab": {
          "base_uri": "https://localhost:8080/"
        },
        "id": "ghCUqmiSQZl-",
        "outputId": "92065932-2656-45c9-cb31-9b9865cf4ed1"
      },
      "execution_count": 9,
      "outputs": [
        {
          "output_type": "execute_result",
          "data": {
            "text/plain": [
              "tensor([[ 41800,  50820,  64750],\n",
              "        [ 23250,  34560,  46620],\n",
              "        [ 93000, 112200, 135000]])"
            ]
          },
          "metadata": {},
          "execution_count": 9
        }
      ]
    },
    {
      "cell_type": "code",
      "source": [
        "#matrix multiplication\n",
        "torch.matmul(q1,q2)"
      ],
      "metadata": {
        "colab": {
          "base_uri": "https://localhost:8080/"
        },
        "id": "BqL6ZXKcQsPN",
        "outputId": "e4bb1661-0d6d-4be5-d9bf-07b571c421d8"
      },
      "execution_count": 10,
      "outputs": [
        {
          "output_type": "execute_result",
          "data": {
            "text/plain": [
              "tensor([[153400, 173440, 194390],\n",
              "        [124350, 140610, 157560],\n",
              "        [225450, 255060, 285960]])"
            ]
          },
          "metadata": {},
          "execution_count": 10
        }
      ]
    },
    {
      "cell_type": "code",
      "source": [
        "#transpose\n",
        "q1.t()"
      ],
      "metadata": {
        "colab": {
          "base_uri": "https://localhost:8080/"
        },
        "id": "H2ufogt7Q6y9",
        "outputId": "79d6393b-7992-427b-c750-66a8fee8f2e8"
      },
      "execution_count": 11,
      "outputs": [
        {
          "output_type": "execute_result",
          "data": {
            "text/plain": [
              "tensor([[200, 150, 300],\n",
              "        [220, 180, 330],\n",
              "        [250, 210, 360]])"
            ]
          },
          "metadata": {},
          "execution_count": 11
        }
      ]
    },
    {
      "cell_type": "code",
      "source": [
        "q1.sum(dim=1)"
      ],
      "metadata": {
        "colab": {
          "base_uri": "https://localhost:8080/"
        },
        "id": "4tGYIyS5RCQV",
        "outputId": "a919bcab-3490-4020-e6cb-efa587bf40c1"
      },
      "execution_count": 12,
      "outputs": [
        {
          "output_type": "execute_result",
          "data": {
            "text/plain": [
              "tensor([670, 540, 990])"
            ]
          },
          "metadata": {},
          "execution_count": 12
        }
      ]
    },
    {
      "cell_type": "code",
      "source": [
        "if torch.cuda.is_available():\n",
        "  device=torch.device(\"cuda\")\n",
        "else:\n",
        "  device=torch.device(\"cpu\")\n",
        "print(f\"Using device: {device}\")"
      ],
      "metadata": {
        "colab": {
          "base_uri": "https://localhost:8080/"
        },
        "id": "uFwJ-BKzSr-1",
        "outputId": "e0f3f1ef-fe85-426a-8c0a-55c0d4e07300"
      },
      "execution_count": 13,
      "outputs": [
        {
          "output_type": "stream",
          "name": "stdout",
          "text": [
            "Using device: cuda\n"
          ]
        }
      ]
    },
    {
      "cell_type": "code",
      "source": [
        "# simulating customer data with 1 million customers and 3 features (age,spendig score, income)\n",
        "customer_data=torch.rand(1_000_000,3,device=device)\n",
        "customer_data.shape"
      ],
      "metadata": {
        "colab": {
          "base_uri": "https://localhost:8080/"
        },
        "id": "lAQhM8wpS7nl",
        "outputId": "c1718a49-c9ce-411b-a396-cb5163d5358d"
      },
      "execution_count": 14,
      "outputs": [
        {
          "output_type": "execute_result",
          "data": {
            "text/plain": [
              "torch.Size([1000000, 3])"
            ]
          },
          "metadata": {},
          "execution_count": 14
        }
      ]
    },
    {
      "cell_type": "code",
      "source": [
        "customer_data[:5]"
      ],
      "metadata": {
        "colab": {
          "base_uri": "https://localhost:8080/"
        },
        "id": "fWVYO__8TVgt",
        "outputId": "2e87cff8-267e-4274-be75-c194d973495a"
      },
      "execution_count": 15,
      "outputs": [
        {
          "output_type": "execute_result",
          "data": {
            "text/plain": [
              "tensor([[0.8235, 0.5224, 0.4688],\n",
              "        [0.6206, 0.0045, 0.7932],\n",
              "        [0.6194, 0.9265, 0.5861],\n",
              "        [0.5543, 0.9746, 0.3803],\n",
              "        [0.4386, 0.9115, 0.7184]], device='cuda:0')"
            ]
          },
          "metadata": {},
          "execution_count": 15
        }
      ]
    },
    {
      "cell_type": "code",
      "source": [
        "customer_data[:,1]"
      ],
      "metadata": {
        "colab": {
          "base_uri": "https://localhost:8080/"
        },
        "id": "dUG6BtgAThjc",
        "outputId": "e6c2dae5-f423-4053-b008-56c287901efa"
      },
      "execution_count": 16,
      "outputs": [
        {
          "output_type": "execute_result",
          "data": {
            "text/plain": [
              "tensor([0.5224, 0.0045, 0.9265,  ..., 0.3019, 0.8631, 0.6199], device='cuda:0')"
            ]
          },
          "metadata": {},
          "execution_count": 16
        }
      ]
    },
    {
      "cell_type": "code",
      "source": [
        "high_spending=customer_data[customer_data[:,1]>0.5]\n",
        "high_spending"
      ],
      "metadata": {
        "colab": {
          "base_uri": "https://localhost:8080/"
        },
        "id": "vUXiatP3TwTk",
        "outputId": "72c85f83-5910-4857-f5f8-b81c43cd24e4"
      },
      "execution_count": 17,
      "outputs": [
        {
          "output_type": "execute_result",
          "data": {
            "text/plain": [
              "tensor([[0.8235, 0.5224, 0.4688],\n",
              "        [0.6194, 0.9265, 0.5861],\n",
              "        [0.5543, 0.9746, 0.3803],\n",
              "        ...,\n",
              "        [0.9547, 0.5953, 0.6247],\n",
              "        [0.6216, 0.8631, 0.7117],\n",
              "        [0.6072, 0.6199, 0.1888]], device='cuda:0')"
            ]
          },
          "metadata": {},
          "execution_count": 17
        }
      ]
    },
    {
      "cell_type": "code",
      "source": [
        "high_spending.shape"
      ],
      "metadata": {
        "colab": {
          "base_uri": "https://localhost:8080/"
        },
        "id": "ZtJViJrdT_3U",
        "outputId": "d2bcea51-51ab-45f0-c217-074bd15157c8"
      },
      "execution_count": 18,
      "outputs": [
        {
          "output_type": "execute_result",
          "data": {
            "text/plain": [
              "torch.Size([500209, 3])"
            ]
          },
          "metadata": {},
          "execution_count": 18
        }
      ]
    },
    {
      "cell_type": "code",
      "source": [
        "#to store data to cpu\n",
        "high_spending.to(\"cpu\")\n"
      ],
      "metadata": {
        "colab": {
          "base_uri": "https://localhost:8080/"
        },
        "id": "hTYMHi46UBR1",
        "outputId": "c81b8498-7e0a-4a17-8648-3a68006fabd5"
      },
      "execution_count": 19,
      "outputs": [
        {
          "output_type": "execute_result",
          "data": {
            "text/plain": [
              "tensor([[0.8235, 0.5224, 0.4688],\n",
              "        [0.6194, 0.9265, 0.5861],\n",
              "        [0.5543, 0.9746, 0.3803],\n",
              "        ...,\n",
              "        [0.9547, 0.5953, 0.6247],\n",
              "        [0.6216, 0.8631, 0.7117],\n",
              "        [0.6072, 0.6199, 0.1888]])"
            ]
          },
          "metadata": {},
          "execution_count": 19
        }
      ]
    },
    {
      "cell_type": "code",
      "source": [
        "q1.dtype"
      ],
      "metadata": {
        "colab": {
          "base_uri": "https://localhost:8080/"
        },
        "id": "GmXaKAlFUCou",
        "outputId": "f530f0ee-8c29-42f1-f681-42a814ea424b"
      },
      "execution_count": 20,
      "outputs": [
        {
          "output_type": "execute_result",
          "data": {
            "text/plain": [
              "torch.int64"
            ]
          },
          "metadata": {},
          "execution_count": 20
        }
      ]
    },
    {
      "cell_type": "code",
      "source": [
        "#to reshape\n",
        "q1.view(-1)"
      ],
      "metadata": {
        "colab": {
          "base_uri": "https://localhost:8080/"
        },
        "id": "duCcwoLhbvHd",
        "outputId": "3ad55b0d-151e-4f5b-e1f0-96d7ed4018d0"
      },
      "execution_count": 21,
      "outputs": [
        {
          "output_type": "execute_result",
          "data": {
            "text/plain": [
              "tensor([200, 220, 250, 150, 180, 210, 300, 330, 360])"
            ]
          },
          "metadata": {},
          "execution_count": 21
        }
      ]
    },
    {
      "cell_type": "code",
      "source": [
        "units=torch.tensor([\n",
        "    [23,34],\n",
        "    [23,34],\n",
        "    [45,56]\n",
        "])"
      ],
      "metadata": {
        "id": "__zrEk09cIDP"
      },
      "execution_count": 22,
      "outputs": []
    },
    {
      "cell_type": "code",
      "source": [
        "units.device"
      ],
      "metadata": {
        "colab": {
          "base_uri": "https://localhost:8080/"
        },
        "id": "Ue-7l2p9cXl7",
        "outputId": "ff7793a8-14f0-4653-d6f1-c63d71be525f"
      },
      "execution_count": 23,
      "outputs": [
        {
          "output_type": "execute_result",
          "data": {
            "text/plain": [
              "device(type='cpu')"
            ]
          },
          "metadata": {},
          "execution_count": 23
        }
      ]
    },
    {
      "cell_type": "code",
      "source": [
        "units.view(2,3)"
      ],
      "metadata": {
        "colab": {
          "base_uri": "https://localhost:8080/"
        },
        "id": "R6vHe804cZwf",
        "outputId": "a367d4d1-b3c7-473e-cfeb-b90c6cfc3b19"
      },
      "execution_count": 24,
      "outputs": [
        {
          "output_type": "execute_result",
          "data": {
            "text/plain": [
              "tensor([[23, 34, 23],\n",
              "        [34, 45, 56]])"
            ]
          },
          "metadata": {},
          "execution_count": 24
        }
      ]
    },
    {
      "cell_type": "code",
      "source": [
        "units[2,1]=90\n",
        "units"
      ],
      "metadata": {
        "colab": {
          "base_uri": "https://localhost:8080/"
        },
        "id": "eK0qe8ZRciSp",
        "outputId": "60852d76-221e-4f06-aab7-c97190185278"
      },
      "execution_count": 25,
      "outputs": [
        {
          "output_type": "execute_result",
          "data": {
            "text/plain": [
              "tensor([[23, 34],\n",
              "        [23, 34],\n",
              "        [45, 90]])"
            ]
          },
          "metadata": {},
          "execution_count": 25
        }
      ]
    },
    {
      "cell_type": "code",
      "source": [
        "torch.ones(3,4)"
      ],
      "metadata": {
        "colab": {
          "base_uri": "https://localhost:8080/"
        },
        "id": "I-wt7YSzc3gY",
        "outputId": "48fbe53f-8e65-41c7-c38d-dfa6ad02fe77"
      },
      "execution_count": 26,
      "outputs": [
        {
          "output_type": "execute_result",
          "data": {
            "text/plain": [
              "tensor([[1., 1., 1., 1.],\n",
              "        [1., 1., 1., 1.],\n",
              "        [1., 1., 1., 1.]])"
            ]
          },
          "metadata": {},
          "execution_count": 26
        }
      ]
    },
    {
      "cell_type": "code",
      "source": [
        "torch.zeros(5,3)"
      ],
      "metadata": {
        "colab": {
          "base_uri": "https://localhost:8080/"
        },
        "id": "-VyEnZv1dBdr",
        "outputId": "b4846c66-e30d-4df2-cfa4-4fdffd7c789b"
      },
      "execution_count": 27,
      "outputs": [
        {
          "output_type": "execute_result",
          "data": {
            "text/plain": [
              "tensor([[0., 0., 0.],\n",
              "        [0., 0., 0.],\n",
              "        [0., 0., 0.],\n",
              "        [0., 0., 0.],\n",
              "        [0., 0., 0.]])"
            ]
          },
          "metadata": {},
          "execution_count": 27
        }
      ]
    }
  ]
}