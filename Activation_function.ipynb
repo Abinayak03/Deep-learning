{
  "nbformat": 4,
  "nbformat_minor": 0,
  "metadata": {
    "colab": {
      "provenance": [],
      "authorship_tag": "ABX9TyNSfgXVqwh5MEJNqnW/5rct",
      "include_colab_link": true
    },
    "kernelspec": {
      "name": "python3",
      "display_name": "Python 3"
    },
    "language_info": {
      "name": "python"
    }
  },
  "cells": [
    {
      "cell_type": "markdown",
      "metadata": {
        "id": "view-in-github",
        "colab_type": "text"
      },
      "source": [
        "<a href=\"https://colab.research.google.com/github/Abinayak03/Deep-learning/blob/main/Activation_function.ipynb\" target=\"_parent\"><img src=\"https://colab.research.google.com/assets/colab-badge.svg\" alt=\"Open In Colab\"/></a>"
      ]
    },
    {
      "cell_type": "code",
      "execution_count": 1,
      "metadata": {
        "id": "Z7oE7unWlL9Y"
      },
      "outputs": [],
      "source": [
        "import numpy as np"
      ]
    },
    {
      "cell_type": "markdown",
      "source": [
        "**ACTIVATION FUNCTION**"
      ],
      "metadata": {
        "id": "4Oj39rG_lSyw"
      }
    },
    {
      "cell_type": "markdown",
      "source": [
        "*sigmoid*"
      ],
      "metadata": {
        "id": "EhhJ2-52mspX"
      }
    },
    {
      "cell_type": "code",
      "source": [
        "def sigmoid(x):\n",
        "  return 1/(1+np.exp(-x))\n",
        "\n",
        "values=np.array([-2,-1,0,1,2,50,600,56])\n",
        "sigmoid(values)"
      ],
      "metadata": {
        "colab": {
          "base_uri": "https://localhost:8080/"
        },
        "id": "rkaywtTVlRkB",
        "outputId": "ffd8a0ed-c34c-449a-d0bc-e6e0c82be017"
      },
      "execution_count": 2,
      "outputs": [
        {
          "output_type": "execute_result",
          "data": {
            "text/plain": [
              "array([0.11920292, 0.26894142, 0.5       , 0.73105858, 0.88079708,\n",
              "       1.        , 1.        , 1.        ])"
            ]
          },
          "metadata": {},
          "execution_count": 2
        }
      ]
    },
    {
      "cell_type": "markdown",
      "source": [
        "*softmax*"
      ],
      "metadata": {
        "id": "Y8z7Pxkkmvb-"
      }
    },
    {
      "cell_type": "code",
      "source": [
        "def softmax(x):\n",
        "  exp_x=np.exp(x-np.max(x))\n",
        "  return exp_x/exp_x.sum(axis=0)\n",
        "\n",
        "values=np.array([3,8,9,7,4])\n",
        "softmax(values)"
      ],
      "metadata": {
        "colab": {
          "base_uri": "https://localhost:8080/"
        },
        "id": "_2Royp5umzN_",
        "outputId": "d91dcba9-bca6-43f6-c47f-1a2440483c90"
      },
      "execution_count": 5,
      "outputs": [
        {
          "output_type": "execute_result",
          "data": {
            "text/plain": [
              "array([0.00163892, 0.24323711, 0.661187  , 0.08948193, 0.00445504])"
            ]
          },
          "metadata": {},
          "execution_count": 5
        }
      ]
    },
    {
      "cell_type": "markdown",
      "source": [
        "*tanh*"
      ],
      "metadata": {
        "id": "P5evsemJoAKB"
      }
    },
    {
      "cell_type": "code",
      "source": [
        "def tanh(x):\n",
        "  return np.tanh(x)\n",
        "\n",
        "values=np.array([-2,-1,0,1,2,50,600,56])\n",
        "tanh(values)"
      ],
      "metadata": {
        "colab": {
          "base_uri": "https://localhost:8080/"
        },
        "id": "mqDsMzFQoDRP",
        "outputId": "40395337-718a-4e38-bf34-dfb16b96f2de"
      },
      "execution_count": 6,
      "outputs": [
        {
          "output_type": "execute_result",
          "data": {
            "text/plain": [
              "array([-0.96402758, -0.76159416,  0.        ,  0.76159416,  0.96402758,\n",
              "        1.        ,  1.        ,  1.        ])"
            ]
          },
          "metadata": {},
          "execution_count": 6
        }
      ]
    },
    {
      "cell_type": "markdown",
      "source": [
        "*ReLU*"
      ],
      "metadata": {
        "id": "cX4jciiXoUf3"
      }
    },
    {
      "cell_type": "code",
      "source": [
        "def relu(x):\n",
        "  return np.maximum(0,x)\n",
        "\n",
        "values=np.array([-2,-1,0,1,2,50,600,56])\n",
        "relu(values)"
      ],
      "metadata": {
        "colab": {
          "base_uri": "https://localhost:8080/"
        },
        "id": "g9I6PHPPoXN_",
        "outputId": "3e13e12c-5fb9-4692-c345-870ad381769b"
      },
      "execution_count": 7,
      "outputs": [
        {
          "output_type": "execute_result",
          "data": {
            "text/plain": [
              "array([  0,   0,   0,   1,   2,  50, 600,  56])"
            ]
          },
          "metadata": {},
          "execution_count": 7
        }
      ]
    }
  ]
}